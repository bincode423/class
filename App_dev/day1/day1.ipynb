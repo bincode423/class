{
 "cells": [
  {
   "cell_type": "code",
   "execution_count": null,
   "id": "aecf2755",
   "metadata": {},
   "outputs": [],
   "source": [
    "def func1(n):\n",
    "    if n%2 == 0:\n",
    "        return 'even'\n",
    "    else:\n",
    "        return 'odd'\n",
    "\n",
    "n = int(input())\n",
    "str1 = func1(n)\n",
    "print(str1)"
   ]
  },
  {
   "cell_type": "markdown",
   "id": "8c141e5c",
   "metadata": {},
   "source": [
    "### 나이를 입력받아 짝수면 나이 + 1, 홀수면 나이 - 1"
   ]
  },
  {
   "cell_type": "code",
   "execution_count": null,
   "id": "4b2d7d38",
   "metadata": {},
   "outputs": [],
   "source": [
    "n = int(input())\n",
    "if func1(n) == 'even':\n",
    "    print(n +1)\n",
    "else:\n",
    "    print(n -1)"
   ]
  }
 ],
 "metadata": {
  "kernelspec": {
   "display_name": "Python 3",
   "language": "python",
   "name": "python3"
  },
  "language_info": {
   "codemirror_mode": {
    "name": "ipython",
    "version": 3
   },
   "file_extension": ".py",
   "mimetype": "text/x-python",
   "name": "python",
   "nbconvert_exporter": "python",
   "pygments_lexer": "ipython3",
   "version": "3.12.1"
  }
 },
 "nbformat": 4,
 "nbformat_minor": 5
}
