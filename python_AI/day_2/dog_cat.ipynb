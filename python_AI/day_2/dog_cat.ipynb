{
 "cells": [
  {
   "cell_type": "code",
   "execution_count": null,
   "id": "cdb91d3f",
   "metadata": {},
   "outputs": [],
   "source": [
    "import os, zipfile\n",
    "import tensorflow as tf\n",
    "from tensorflow.keras.preprocessing.image import ImageDataGenerator\n",
    "from tensorflow.keras import layers, models\n",
    "\n",
    "\n",
    "local_zip = r\".\\cats_and_dogs_filtered.zip\"\n",
    "extract_to = r\".\"\n",
    "\n",
    "\n",
    "# 압축 해제(이미 해제했다면 생략)\n",
    "# with zipfile.ZipFile(local_zip, 'r') as zf:\n",
    "#     zf.extractall(extract_to)\n",
    "\n",
    "base_dir = os.path.join(extract_to, 'cats_and_dogs_filtered')\n",
    "train_dir = os.path.join(base_dir, 'train')\n",
    "validation_dir = os.path.join(base_dir, 'validation')\n",
    "\n",
    "train_gen = ImageDataGenerator(rescale=1/255)\n",
    "val_gen = ImageDataGenerator(rescale=1/255)\n",
    "\n",
    "train_generator = train_gen.flow_from_directory(\n",
    "    train_dir, target_size=(150, 150), batch_size=20, class_mode='binary')\n",
    "\n",
    "val_generator = val_gen.flow_from_directory(\n",
    "    validation_dir, target_size=(150, 150), batch_size=20, class_mode='binary')\n",
    "\n",
    "model = models.Sequential([\n",
    "    layers.Conv2D(32, (3,3), activation='relu', input_shape=(150,150,3)),\n",
    "    layers.MaxPooling2D(2,2),\n",
    "    layers.Conv2D(64, (3,3), activation='relu'),\n",
    "    layers.MaxPooling2D(2,2),\n",
    "    layers.Conv2D(128, (3,3), activation='relu'),\n",
    "    layers.MaxPooling2D(2,2),\n",
    "    layers.Flatten(),\n",
    "    layers.Dense(512, activation='relu'),\n",
    "    layers.Dense(1, activation='sigmoid')\n",
    "])\n",
    "\n",
    "model.compile(loss='binary_crossentropy', optimizer='adam', metrics=['accuracy'])\n",
    "\n",
    "model.fit(\n",
    "    train_generator,\n",
    "    steps_per_epoch=100,\n",
    "    epochs=5,\n",
    "    validation_data=val_generator,\n",
    "    validation_steps=50\n",
    ")\n",
    "\n",
    "model.save(r\"models\\animals.h5\")\n",
    "print(\"animals.h5 로 저장되었습니다.\")"
   ]
  },
  {
   "cell_type": "code",
   "execution_count": 19,
   "id": "b06e7c81",
   "metadata": {},
   "outputs": [
    {
     "name": "stderr",
     "output_type": "stream",
     "text": [
      "WARNING:absl:Compiled the loaded model, but the compiled metrics have yet to be built. `model.compile_metrics` will be empty until you train or evaluate the model.\n"
     ]
    },
    {
     "name": "stdout",
     "output_type": "stream",
     "text": [
      "모델 로드 완료\n",
      "\u001b[1m1/1\u001b[0m \u001b[32m━━━━━━━━━━━━━━━━━━━━\u001b[0m\u001b[37m\u001b[0m \u001b[1m0s\u001b[0m 117ms/step\n",
      "dog.jpg → 강아지일 확률: 0.99\n"
     ]
    }
   ],
   "source": [
    "import os\n",
    "import numpy as np\n",
    "import tensorflow as tf\n",
    "from tensorflow.keras.utils import load_img, img_to_array\n",
    "from tensorflow.keras.models import load_model\n",
    "\n",
    "model_path = r\"models\\animals.h5\"\n",
    "if not os.path.exists(model_path):\n",
    "    print(\"모델 파일이 없습니다.\")\n",
    "    exit()\n",
    "\n",
    "model = load_model(model_path)\n",
    "print(\"모델 로드 완료\")\n",
    "\n",
    "def predict_image(image_path):\n",
    "    if not os.path.exists(image_path):\n",
    "        print(f\"[오류] 파일이 없습니다: {image_path}\")\n",
    "        return\n",
    "\n",
    "    img = load_img(image_path, target_size=(150, 150))\n",
    "    img_array = img_to_array(img) / 255.0\n",
    "    img_array = np.expand_dims(img_array, axis=0)\n",
    "\n",
    "    prediction = model.predict(img_array)[0][0]\n",
    "\n",
    "    if prediction > 0.5:\n",
    "        print(f\"{image_path} → 강아지일 확률: {prediction:.2f}\")\n",
    "    else:\n",
    "        print(f\"{image_path} → 고양이일 확률: {1 - prediction:.2f}\")\n",
    "\n",
    "\n",
    "predict_image(\"dog.jpg\" )\n"
   ]
  }
 ],
 "metadata": {
  "kernelspec": {
   "display_name": "Python 3",
   "language": "python",
   "name": "python3"
  },
  "language_info": {
   "codemirror_mode": {
    "name": "ipython",
    "version": 3
   },
   "file_extension": ".py",
   "mimetype": "text/x-python",
   "name": "python",
   "nbconvert_exporter": "python",
   "pygments_lexer": "ipython3",
   "version": "3.12.1"
  }
 },
 "nbformat": 4,
 "nbformat_minor": 5
}
