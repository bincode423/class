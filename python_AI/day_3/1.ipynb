{
 "cells": [
  {
   "cell_type": "code",
   "execution_count": 16,
   "id": "27237440",
   "metadata": {},
   "outputs": [],
   "source": [
    "import easyocr"
   ]
  },
  {
   "cell_type": "code",
   "execution_count": 17,
   "id": "35942932",
   "metadata": {},
   "outputs": [],
   "source": [
    "reader = easyocr.Reader(['en','ko'])\n",
    "result = reader.readtext('car.jpg')"
   ]
  },
  {
   "cell_type": "code",
   "execution_count": 18,
   "id": "db38fc8f",
   "metadata": {},
   "outputs": [
    {
     "name": "stdout",
     "output_type": "stream",
     "text": [
      "[신뢰도 0.57] 인식된 텍스트192\n",
      "[신뢰도 0.20] 인식된 텍스트RIDEASAIIN\n",
      "[신뢰도 1.00] 인식된 텍스트7777\n"
     ]
    }
   ],
   "source": [
    "for bbox, text, confidence in result:\n",
    "    print(f\"[신뢰도 {confidence:.2f}] 인식된 텍스트{text}\")"
   ]
  }
 ],
 "metadata": {
  "kernelspec": {
   "display_name": "Python 3",
   "language": "python",
   "name": "python3"
  },
  "language_info": {
   "codemirror_mode": {
    "name": "ipython",
    "version": 3
   },
   "file_extension": ".py",
   "mimetype": "text/x-python",
   "name": "python",
   "nbconvert_exporter": "python",
   "pygments_lexer": "ipython3",
   "version": "3.12.1"
  }
 },
 "nbformat": 4,
 "nbformat_minor": 5
}
