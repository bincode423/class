{
 "cells": [
  {
   "cell_type": "code",
   "execution_count": 1,
   "id": "292d45ff",
   "metadata": {},
   "outputs": [],
   "source": [
    "import numpy as np"
   ]
  },
  {
   "cell_type": "code",
   "execution_count": 2,
   "id": "31154e63",
   "metadata": {},
   "outputs": [
    {
     "name": "stdout",
     "output_type": "stream",
     "text": [
      "[9 3 1 8]\n",
      "[ 0  1  2  3  4  5  6  7  8  9 10 11]\n",
      "[[[ 0  1  2]\n",
      "  [ 3  4  5]\n",
      "  [ 6  7  8]\n",
      "  [ 9 10 11]]\n",
      "\n",
      " [[12 13 14]\n",
      "  [15 16 17]\n",
      "  [18 19 20]\n",
      "  [21 22 23]]\n",
      "\n",
      " [[24 25 26]\n",
      "  [27 28 29]\n",
      "  [30 31 32]\n",
      "  [33 34 35]]]\n"
     ]
    }
   ],
   "source": [
    "a1 = np.array([9, 3, 1, 8])\n",
    "print(a1)\n",
    "a2 = np.arange(12)\n",
    "print(a2)\n",
    "a3 = np.arange(36, dtype='int32').reshape(3,4,3)\n",
    "print(a3)"
   ]
  },
  {
   "cell_type": "code",
   "execution_count": 3,
   "id": "1f6741e5",
   "metadata": {},
   "outputs": [
    {
     "name": "stdout",
     "output_type": "stream",
     "text": [
      "[0.56826164 0.38031126 0.1313175  0.71074057 0.35362795]\n",
      "[30 79 86 36 84]\n",
      "[ 0.   2.5  5.   7.5 10. ]\n",
      "[0 0 0]\n",
      "[1 1 1 1 1]\n",
      "[3 3 3 3 3 3 3]\n"
     ]
    }
   ],
   "source": [
    "a4 = np.random.rand(5)\n",
    "print(a4)\n",
    "a5 = np.random.randint(1, 100, size=5)\n",
    "print(a5)\n",
    "a6 = np.linspace(0, 10, 5)\n",
    "print(a6)\n",
    "\n",
    "a7 = np.zeros((3), dtype='int64')\n",
    "print(a7)\n",
    "a8 = np.ones((5), dtype='int64')\n",
    "print(a8)\n",
    "a9 = np.full((7),3, dtype='int64')\n",
    "print(a9)"
   ]
  },
  {
   "cell_type": "code",
   "execution_count": 12,
   "id": "b095461c",
   "metadata": {},
   "outputs": [
    {
     "data": {
      "image/png": "[encoded data removed]",
      "text/plain": [
       "<Figure size 400x400 with 1 Axes>"
      ]
     },
     "metadata": {},
     "output_type": "display_data"
    }
   ],
   "source": [
    "import numpy as np\n",
    "import matplotlib.pyplot as plt\n",
    "heart_255 = np.array([\n",
    "[0, 50, 100, 0, 100, 50, 0],\n",
    "[50, 100, 200, 255, 200, 100, 50],\n",
    "[50, 100, 200, 255, 200, 100, 50],\n",
    "[0, 50, 100, 200, 100, 50, 0],\n",
    "[0, 0, 50, 100, 50, 0, 0],\n",
    "[0, 0, 0, 50, 0, 0, 0],\n",
    "[0, 0, 0, 0, 0, 0, 0]], dtype=np.uint8)\n",
    "\n",
    "heart_normalized = heart_255 / 255.0\n",
    "plt.figure(figsize=(4, 4))\n",
    "plt.imshow(heart_255, cmap='gray')\n",
    "plt.axis('off')\n",
    "plt.tight_layout()\n",
    "plt.show()"
   ]
  },
  {
   "cell_type": "code",
   "execution_count": null,
   "id": "37c0ab4f",
   "metadata": {},
   "outputs": [
    {
     "name": "stdout",
     "output_type": "stream",
     "text": [
      "폭염일수:  3\n",
      "폭염일 기온 목록 :  [55, 66, 44]\n"
     ]
    }
   ],
   "source": [
    "arr = list(map(int, input().split()))\n",
    "np_arr = np.array(arr)\n",
    "print('폭염일수 :',(33<np_arr).sum())\n",
    "print('폭염일 기온 목록 :',np_arr[np_arr > 33].tolist())"
   ]
  },
  {
   "cell_type": "code",
   "execution_count": 18,
   "id": "d2bedfc2",
   "metadata": {},
   "outputs": [
    {
     "name": "stdout",
     "output_type": "stream",
     "text": [
      "폭염일 수 : 1\n",
      "폭염일 기온 목록 : [33.1]\n"
     ]
    }
   ],
   "source": [
    "temp = np.array([28.5, 29.0, 30.2, 33.1])\n",
    "hot = temp[temp >= 33]\n",
    "print(f'폭염일 수 : {len(hot)}')\n",
    "print(f'폭염일 기온 목록 : {hot}')"
   ]
  }
 ],
 "metadata": {
  "kernelspec": {
   "display_name": "Python 3",
   "language": "python",
   "name": "python3"
  },
  "language_info": {
   "codemirror_mode": {
    "name": "ipython",
    "version": 3
   },
   "file_extension": ".py",
   "mimetype": "text/x-python",
   "name": "python",
   "nbconvert_exporter": "python",
   "pygments_lexer": "ipython3",
   "version": "3.12.1"
  }
 },
 "nbformat": 4,
 "nbformat_minor": 5
}
